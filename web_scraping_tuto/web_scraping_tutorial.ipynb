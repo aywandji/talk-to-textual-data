{
 "cells": [
  {
   "cell_type": "code",
   "execution_count": 17,
   "metadata": {},
   "outputs": [
    {
     "ename": "ModuleNotFoundError",
     "evalue": "No module named 'setup_data'",
     "output_type": "error",
     "traceback": [
      "\u001b[0;31m---------------------------------------------------------------------------\u001b[0m",
      "\u001b[0;31mModuleNotFoundError\u001b[0m                       Traceback (most recent call last)",
      "\u001b[0;32m<ipython-input-17-473e59d78ba2>\u001b[0m in \u001b[0;36m<module>\u001b[0;34m\u001b[0m\n\u001b[1;32m      9\u001b[0m \u001b[0;32mfrom\u001b[0m \u001b[0mweb_scraping_utils\u001b[0m \u001b[0;32mimport\u001b[0m \u001b[0mdownload_save_html_data\u001b[0m\u001b[0;34m,\u001b[0m \u001b[0mfrom_url_to_filename\u001b[0m\u001b[0;34m\u001b[0m\u001b[0;34m\u001b[0m\u001b[0m\n\u001b[1;32m     10\u001b[0m \u001b[0;32mfrom\u001b[0m \u001b[0mweb_scraping_utils\u001b[0m \u001b[0;32mimport\u001b[0m \u001b[0mdocument_string_from_source\u001b[0m\u001b[0;34m,\u001b[0m \u001b[0mfrom_filename_to_url\u001b[0m\u001b[0;34m\u001b[0m\u001b[0;34m\u001b[0m\u001b[0m\n\u001b[0;32m---> 11\u001b[0;31m \u001b[0;32mfrom\u001b[0m \u001b[0msetup_data\u001b[0m \u001b[0;32mimport\u001b[0m \u001b[0mWEBSITES_DIR\u001b[0m \u001b[0;32mas\u001b[0m \u001b[0mDATA_FOLDER\u001b[0m\u001b[0;34m\u001b[0m\u001b[0;34m\u001b[0m\u001b[0m\n\u001b[0m\u001b[1;32m     12\u001b[0m \u001b[0;32mfrom\u001b[0m \u001b[0msetup_data\u001b[0m \u001b[0;32mimport\u001b[0m \u001b[0mDOCUMENTS_DIR\u001b[0m \u001b[0;32mas\u001b[0m \u001b[0mDOCUMENTS_FOLDER\u001b[0m\u001b[0;34m\u001b[0m\u001b[0;34m\u001b[0m\u001b[0m\n",
      "\u001b[0;31mModuleNotFoundError\u001b[0m: No module named 'setup_data'"
     ]
    }
   ],
   "source": [
    "import os\n",
    "import json\n",
    "import glob\n",
    "\n",
    "from bs4 import BeautifulSoup\n",
    "import requests\n",
    "from tqdm import tqdm\n",
    "\n",
    "from web_scraping_utils import download_save_html_data, from_url_to_filename\n",
    "from web_scraping_utils import document_string_from_source, from_filename_to_url\n",
    "from setup_data import WEBSITES_DIR as DATA_FOLDER\n",
    "from setup_data import DOCUMENTS_DIR as DOCUMENTS_FOLDER\n",
    "from setup_data import check_directory"
   ]
  },
  {
   "cell_type": "markdown",
   "metadata": {},
   "source": [
    "## Scrap html data from url and save it \n",
    "Here we get all links ('<\\a>' tags ) from \"https://www.total.com/\" and we download html content from all those links. \n",
    "\n",
    "You should adapt this part according to the structure of the website you want to scrap"
   ]
  },
  {
   "cell_type": "code",
   "execution_count": 13,
   "metadata": {},
   "outputs": [],
   "source": [
    "# DATA_FOLDER = \"html_data_dir/\"\n",
    "# DOCUMENTS_FOLDER = \"documents/\"\n",
    "url = \"https://www.total.com/\"\n",
    "check_directory(DATA_FOLDER)\n",
    "check_directory(DOCUMENTS_FOLDER)"
   ]
  },
  {
   "cell_type": "code",
   "execution_count": 14,
   "metadata": {
    "scrolled": true
   },
   "outputs": [],
   "source": [
    "data_folder_is_empty = len(glob.glob(DATA_FOLDER+\"*\")) == 0\n",
    "if data_folder_is_empty:\n",
    "    response = requests.get(url)\n",
    "    soup = BeautifulSoup(response.content, 'html.parser')\n",
    "    all_a_tags = soup.find_all(\"a\")\n",
    "\n",
    "    for a_tag in tqdm(all_a_tags): ##this part is specific to each website structure. Please change it accordingly\n",
    "        href = a_tag.get(\"href\",None)\n",
    "        if (href is not None):\n",
    "            if \"http\" not in href:\n",
    "                href = \"https://total.com\" + href\n",
    "            if \"total.com/\" in href:\n",
    "                filename = DATA_FOLDER + from_url_to_filename(href)\n",
    "                download_save_html_data(href,filename)"
   ]
  },
  {
   "cell_type": "markdown",
   "metadata": {},
   "source": [
    "## Process downloaded html data and save them as json files\n",
    "Each json file is a document that our ODQA framework can process. It has 3 key-value pairs : \"title\", \"text\" and \"url\""
   ]
  },
  {
   "cell_type": "code",
   "execution_count": 16,
   "metadata": {
    "scrolled": true
   },
   "outputs": [
    {
     "name": "stderr",
     "output_type": "stream",
     "text": [
      "  1%|          | 1/136 [00:00<00:21,  6.17it/s]"
     ]
    },
    {
     "name": "stdout",
     "output_type": "stream",
     "text": [
      "Reading doc from disk  ../data/ext_data/websites/total_com/total_com_media_latest-news\n",
      "Reading doc from disk  ../data/ext_data/websites/total_com/total_com_\n"
     ]
    },
    {
     "name": "stderr",
     "output_type": "stream",
     "text": [
      "  3%|▎         | 4/136 [00:00<00:12, 10.82it/s]"
     ]
    },
    {
     "name": "stdout",
     "output_type": "stream",
     "text": [
      "Reading doc from disk  ../data/ext_data/websites/total_com/total_com_media_check-out-our-official-channels-social-media\n",
      "Reading doc from disk  ../data/ext_data/websites/total_com/total_com_group_commitment_protecting-people_industrial-safety_culture\n",
      "Reading doc from disk  ../data/ext_data/websites/total_com/total_com_group_commitment_environmental-issues-challenges_environment-protection_waste\n"
     ]
    },
    {
     "name": "stderr",
     "output_type": "stream",
     "text": [
      "\r",
      "  4%|▍         | 6/136 [00:00<00:10, 12.28it/s]"
     ]
    },
    {
     "name": "stdout",
     "output_type": "stream",
     "text": [
      "Reading doc from disk  ../data/ext_data/websites/total_com/total_com_investors\n",
      "Reading doc from disk  ../data/ext_data/websites/total_com/total_com_investors_shares-and-dividends_dividends\n"
     ]
    },
    {
     "name": "stderr",
     "output_type": "stream",
     "text": [
      "  7%|▋         | 10/136 [00:00<00:10, 12.52it/s]"
     ]
    },
    {
     "name": "stdout",
     "output_type": "stream",
     "text": [
      "Reading doc from disk  ../data/ext_data/websites/total_com/total_com_investors_results-investor-presentations_main-indicators\n",
      "Reading doc from disk  ../data/ext_data/websites/total_com/www_sustainable-performance_total_com_en\n",
      "Reading doc from disk  ../data/ext_data/websites/total_com/total_com_group_commitment_environmental-issues-challenges_environment-protection_environmental-engineering\n",
      "Reading doc from disk  ../data/ext_data/websites/total_com/total_com_customers_consumers_fuels-and-lubricants\n"
     ]
    },
    {
     "name": "stderr",
     "output_type": "stream",
     "text": [
      "\r",
      "  9%|▉         | 12/136 [00:00<00:08, 13.82it/s]"
     ]
    },
    {
     "name": "stdout",
     "output_type": "stream",
     "text": [
      "Reading doc from disk  ../data/ext_data/websites/total_com/total_com_group_commitment_protecting-people_industrial-safety\n",
      "Reading doc from disk  ../data/ext_data/websites/total_com/total_com_media_news_communiques-presse_go-ahead-for-the-northern-lights-project-in-norway\n",
      "Reading doc from disk  ../data/ext_data/websites/total_com/total_com_infographics_total-100000-people-more-130-countries\n"
     ]
    },
    {
     "name": "stderr",
     "output_type": "stream",
     "text": [
      "\r",
      " 10%|█         | 14/136 [00:01<00:09, 12.39it/s]"
     ]
    },
    {
     "name": "stdout",
     "output_type": "stream",
     "text": [
      "Reading doc from disk  ../data/ext_data/websites/total_com/www_acs_total_com_en\n",
      "Reading doc from disk  ../data/ext_data/websites/total_com/total_com_group_energy-expertise_ship-market_products-services\n"
     ]
    },
    {
     "name": "stderr",
     "output_type": "stream",
     "text": [
      " 13%|█▎        | 18/136 [00:01<00:09, 11.95it/s]"
     ]
    },
    {
     "name": "stdout",
     "output_type": "stream",
     "text": [
      "Reading doc from disk  ../data/ext_data/websites/total_com/total_com_group_strength\n",
      "Reading doc from disk  ../data/ext_data/websites/total_com/total_com_group_commitment_protecting-people_health_workplace\n",
      "Reading doc from disk  ../data/ext_data/websites/total_com/www_solar_total_com_en\n",
      "Reading doc from disk  ../data/ext_data/websites/total_com/total_com_customers_consumers\n"
     ]
    },
    {
     "name": "stderr",
     "output_type": "stream",
     "text": [
      " 16%|█▌        | 22/136 [00:01<00:09, 12.23it/s]"
     ]
    },
    {
     "name": "stdout",
     "output_type": "stream",
     "text": [
      "Reading doc from disk  ../data/ext_data/websites/total_com/total_com_group_energy-expertise\n",
      "Reading doc from disk  ../data/ext_data/websites/total_com/total_com_group_commitment_climate-change_low-carbon-electricity\n",
      "Reading doc from disk  ../data/ext_data/websites/total_com/www_careers_total_com_en_our-commitments_recruitment-your-application-induction\n"
     ]
    },
    {
     "name": "stderr",
     "output_type": "stream",
     "text": [
      " 19%|█▉        | 26/136 [00:02<00:07, 14.13it/s]"
     ]
    },
    {
     "name": "stdout",
     "output_type": "stream",
     "text": [
      "Reading doc from disk  ../data/ext_data/websites/total_com/total_com_investors_individual-shareholders_buy-shares\n",
      "Reading doc from disk  ../data/ext_data/websites/total_com/total_com_investors_individual-shareholders_shareholder-publications\n",
      "Reading doc from disk  ../data/ext_data/websites/total_com/www_careers_total_com_fr\n",
      "Reading doc from disk  ../data/ext_data/websites/total_com/total_com_investors_individual-shareholders\n"
     ]
    },
    {
     "name": "stderr",
     "output_type": "stream",
     "text": [
      " 22%|██▏       | 30/136 [00:02<00:07, 14.47it/s]"
     ]
    },
    {
     "name": "stdout",
     "output_type": "stream",
     "text": [
      "Reading doc from disk  ../data/ext_data/websites/total_com/total_com_investors_results-investor-presentations\n",
      "Reading doc from disk  ../data/ext_data/websites/total_com/total_com_fr\n",
      "Reading doc from disk  ../data/ext_data/websites/total_com/total_com_group_commitment_shared-development_local-economic-development\n",
      "Reading doc from disk  ../data/ext_data/websites/total_com/total_com_investors_questions-contacts\n",
      "Reading doc from disk  ../data/ext_data/websites/total_com/total_com_investors_publications-and-regulated-information_reports-and-publications\n"
     ]
    },
    {
     "name": "stderr",
     "output_type": "stream",
     "text": [
      "\r",
      " 24%|██▎       | 32/136 [00:02<00:09, 10.64it/s]"
     ]
    },
    {
     "name": "stdout",
     "output_type": "stream",
     "text": [
      "Reading doc from disk  ../data/ext_data/websites/total_com/total_com_group_energy-expertise_transformation-development_specialty-chemicals_hutchinson-elastomers\n",
      "Reading doc from disk  ../data/ext_data/websites/total_com/www_total_com_getting-net-zero\n"
     ]
    },
    {
     "name": "stderr",
     "output_type": "stream",
     "text": [
      " 26%|██▋       | 36/136 [00:03<00:09, 10.72it/s]"
     ]
    },
    {
     "name": "stdout",
     "output_type": "stream",
     "text": [
      "Reading doc from disk  ../data/ext_data/websites/total_com/total_com_investors_individual-shareholders_shareholders-club\n",
      "Reading doc from disk  ../data/ext_data/websites/total_com/total_com_customers_businesses_solar-energy\n",
      "Reading doc from disk  ../data/ext_data/websites/total_com/total_com_group_energy-expertise_exploration-production_committed-future-bioenergies\n"
     ]
    },
    {
     "name": "stderr",
     "output_type": "stream",
     "text": [
      "\r",
      " 28%|██▊       | 38/136 [00:03<00:08, 11.40it/s]"
     ]
    },
    {
     "name": "stdout",
     "output_type": "stream",
     "text": [
      "Reading doc from disk  ../data/ext_data/websites/total_com/total_com_media_video_total-carbon-neutrality-businesses\n",
      "Reading doc from disk  ../data/ext_data/websites/total_com/total_com_projects\n",
      "Reading doc from disk  ../data/ext_data/websites/total_com/total_com_group_commitment_protecting-people_health_local-communities\n"
     ]
    },
    {
     "name": "stderr",
     "output_type": "stream",
     "text": [
      " 31%|███       | 42/136 [00:03<00:07, 11.80it/s]"
     ]
    },
    {
     "name": "stdout",
     "output_type": "stream",
     "text": [
      "Reading doc from disk  ../data/ext_data/websites/total_com/total_com_news_electric-mobility-in-paris-total-wins\n",
      "Reading doc from disk  ../data/ext_data/websites/total_com/total_com_investors_individual-shareholders_dedicated-team\n",
      "Reading doc from disk  ../data/ext_data/websites/total_com/total_com_investors_individual-shareholders_employee-shareholders\n"
     ]
    },
    {
     "name": "stderr",
     "output_type": "stream",
     "text": [
      "\r",
      " 32%|███▏      | 44/136 [00:03<00:08, 10.29it/s]"
     ]
    },
    {
     "name": "stdout",
     "output_type": "stream",
     "text": [
      "Reading doc from disk  ../data/ext_data/websites/total_com/total_com_en_privacy\n",
      "Reading doc from disk  ../data/ext_data/websites/total_com/total_com_group_commitment_environmental-issues-challenges_environment-protection_anti-pollution-measures\n"
     ]
    },
    {
     "name": "stderr",
     "output_type": "stream",
     "text": [
      "\r",
      " 34%|███▍      | 46/136 [00:03<00:08, 10.02it/s]"
     ]
    },
    {
     "name": "stdout",
     "output_type": "stream",
     "text": [
      "Reading doc from disk  ../data/ext_data/websites/total_com/total_com_contact-form\n",
      "Reading doc from disk  ../data/ext_data/websites/total_com/total_com_group_identity\n",
      "Reading doc from disk  ../data/ext_data/websites/total_com/total_com_group\n"
     ]
    },
    {
     "name": "stderr",
     "output_type": "stream",
     "text": [
      "\r",
      " 35%|███▌      | 48/136 [00:04<00:08, 10.12it/s]"
     ]
    },
    {
     "name": "stdout",
     "output_type": "stream",
     "text": [
      "Reading doc from disk  ../data/ext_data/websites/total_com/total_com_media_news\n",
      "Reading doc from disk  ../data/ext_data/websites/total_com/total_com_group_commitment_protecting-people_industrial-safety_risk-management\n"
     ]
    },
    {
     "name": "stderr",
     "output_type": "stream",
     "text": [
      " 38%|███▊      | 52/136 [00:04<00:08, 10.08it/s]"
     ]
    },
    {
     "name": "stdout",
     "output_type": "stream",
     "text": [
      "Reading doc from disk  ../data/ext_data/websites/total_com/total_com_media_colonne-3_info_calendar\n",
      "Reading doc from disk  ../data/ext_data/websites/total_com/total_com_media_news_communiques-presse_reduction-of-methane-emissions-with-OGMP-2\n",
      "Reading doc from disk  ../data/ext_data/websites/total_com/total_com_legal\n"
     ]
    },
    {
     "name": "stderr",
     "output_type": "stream",
     "text": [
      "\r",
      " 40%|███▉      | 54/136 [00:04<00:08,  9.48it/s]"
     ]
    },
    {
     "name": "stdout",
     "output_type": "stream",
     "text": [
      "Reading doc from disk  ../data/ext_data/websites/total_com/total_com_group_commitment_environmental-issues-challenges_environment-protection_protecting-biodiversity\n",
      "Reading doc from disk  ../data/ext_data/websites/total_com/total_com_group_energy-expertise_exploration-production_oil-gas\n"
     ]
    },
    {
     "name": "stderr",
     "output_type": "stream",
     "text": [
      " 41%|████      | 56/136 [00:05<00:09,  8.06it/s]"
     ]
    },
    {
     "name": "stdout",
     "output_type": "stream",
     "text": [
      "Reading doc from disk  ../data/ext_data/websites/total_com/total_com_customers_businesses_fuels\n",
      "Reading doc from disk  ../data/ext_data/websites/total_com/total_com_group_commitment_shared-development_social-engineering\n"
     ]
    },
    {
     "name": "stderr",
     "output_type": "stream",
     "text": [
      " 43%|████▎     | 58/136 [00:05<00:09,  7.99it/s]"
     ]
    },
    {
     "name": "stdout",
     "output_type": "stream",
     "text": [
      "Reading doc from disk  ../data/ext_data/websites/total_com/total_com_investors_results-investor-presentations_results\n",
      "Reading doc from disk  ../data/ext_data/websites/total_com/total_com_news_ccus-total-and-its-partners-release-next-gen-co2-storage-simulator\n"
     ]
    },
    {
     "name": "stderr",
     "output_type": "stream",
     "text": [
      " 44%|████▍     | 60/136 [00:05<00:09,  8.23it/s]"
     ]
    },
    {
     "name": "stdout",
     "output_type": "stream",
     "text": [
      "Reading doc from disk  ../data/ext_data/websites/total_com/total_com_en_projets\n",
      "Reading doc from disk  ../data/ext_data/websites/total_com/www_careers_total_com_en\n"
     ]
    },
    {
     "name": "stderr",
     "output_type": "stream",
     "text": [
      " 46%|████▌     | 62/136 [00:05<00:09,  7.92it/s]"
     ]
    },
    {
     "name": "stdout",
     "output_type": "stream",
     "text": [
      "Reading doc from disk  ../data/ext_data/websites/total_com/total_com_group_identity_governance_biographies\n",
      "Reading doc from disk  ../data/ext_data/websites/total_com/total_com_group_commitment_climate-change\n"
     ]
    },
    {
     "name": "stderr",
     "output_type": "stream",
     "text": [
      " 47%|████▋     | 64/136 [00:06<00:09,  7.67it/s]"
     ]
    },
    {
     "name": "stdout",
     "output_type": "stream",
     "text": [
      "Reading doc from disk  ../data/ext_data/websites/total_com/total_com_investors_why-invest-in-total\n",
      "Reading doc from disk  ../data/ext_data/websites/total_com/total_com_investors_results-investor-presentations_investor-presentations\n"
     ]
    },
    {
     "name": "stderr",
     "output_type": "stream",
     "text": [
      " 49%|████▉     | 67/136 [00:06<00:07,  9.54it/s]"
     ]
    },
    {
     "name": "stdout",
     "output_type": "stream",
     "text": [
      "Reading doc from disk  ../data/ext_data/websites/total_com/total_com_group_commitment_environmental-issues-challenges_environment-protection_water\n",
      "Reading doc from disk  ../data/ext_data/websites/total_com/total_com_group_identity_history\n",
      "Reading doc from disk  ../data/ext_data/websites/total_com/total_com_group_energy-expertise_exploration-production_renewable-energies\n"
     ]
    },
    {
     "name": "stderr",
     "output_type": "stream",
     "text": [
      "\r",
      " 51%|█████     | 69/136 [00:06<00:06, 10.10it/s]"
     ]
    },
    {
     "name": "stdout",
     "output_type": "stream",
     "text": [
      "Reading doc from disk  ../data/ext_data/websites/total_com/total_com_group_strength_employees\n",
      "Reading doc from disk  ../data/ext_data/websites/total_com/total_com_group_commitment_environmental-issues-challenges_environment-protection\n"
     ]
    },
    {
     "name": "stderr",
     "output_type": "stream",
     "text": [
      " 53%|█████▎    | 72/136 [00:06<00:05, 11.08it/s]"
     ]
    },
    {
     "name": "stdout",
     "output_type": "stream",
     "text": [
      "Reading doc from disk  ../data/ext_data/websites/total_com/total_com_group_energy-expertise_ship-market_our-trading-and-shipping-operations\n",
      "Reading doc from disk  ../data/ext_data/websites/total_com/total_com_media_news_communiques-presse_total-enters-the-eca-lng-project\n",
      "Reading doc from disk  ../data/ext_data/websites/total_com/total_com_group_strength_integrated-business-model\n"
     ]
    },
    {
     "name": "stderr",
     "output_type": "stream",
     "text": [
      "\r",
      " 54%|█████▍    | 74/136 [00:07<00:05, 10.65it/s]"
     ]
    },
    {
     "name": "stdout",
     "output_type": "stream",
     "text": [
      "Reading doc from disk  ../data/ext_data/websites/total_com/total_com_group_strength_deep-geographic-roots\n",
      "Reading doc from disk  ../data/ext_data/websites/total_com/total_com_customers_businesses_heating\n"
     ]
    },
    {
     "name": "stderr",
     "output_type": "stream",
     "text": [
      "\r",
      " 56%|█████▌    | 76/136 [00:07<00:06,  9.11it/s]"
     ]
    },
    {
     "name": "stdout",
     "output_type": "stream",
     "text": [
      "Reading doc from disk  ../data/ext_data/websites/total_com/total_com_site-map\n",
      "Reading doc from disk  ../data/ext_data/websites/total_com/total_com_customers_consumers_service-stations\n",
      "Reading doc from disk  ../data/ext_data/websites/total_com/total_com_en_media_special-features\n"
     ]
    },
    {
     "name": "stderr",
     "output_type": "stream",
     "text": [
      " 58%|█████▊    | 79/136 [00:07<00:06,  9.23it/s]"
     ]
    },
    {
     "name": "stdout",
     "output_type": "stream",
     "text": [
      "Reading doc from disk  ../data/ext_data/websites/total_com/total_com_media_special-features\n",
      "Reading doc from disk  ../data/ext_data/websites/total_com/total_com_media_press-releases\n"
     ]
    },
    {
     "name": "stderr",
     "output_type": "stream",
     "text": [
      " 60%|██████    | 82/136 [00:07<00:05, 10.24it/s]"
     ]
    },
    {
     "name": "stdout",
     "output_type": "stream",
     "text": [
      "Reading doc from disk  ../data/ext_data/websites/total_com/www_aviation_total_com_\n",
      "Reading doc from disk  ../data/ext_data/websites/total_com/total_com_group_commitment_climate-change_carbon-neutrality\n",
      "Reading doc from disk  ../data/ext_data/websites/total_com/total_com_group_identity_governance\n"
     ]
    },
    {
     "name": "stderr",
     "output_type": "stream",
     "text": [
      "\r",
      " 62%|██████▏   | 84/136 [00:08<00:05, 10.31it/s]"
     ]
    },
    {
     "name": "stdout",
     "output_type": "stream",
     "text": [
      "Reading doc from disk  ../data/ext_data/websites/total_com/total_com_investors_environment-social-governance\n",
      "Reading doc from disk  ../data/ext_data/websites/total_com/total_com_group_energy-expertise_transformation-development_polymers\n"
     ]
    },
    {
     "name": "stderr",
     "output_type": "stream",
     "text": [
      "\r",
      " 63%|██████▎   | 86/136 [00:08<00:04, 10.09it/s]"
     ]
    },
    {
     "name": "stdout",
     "output_type": "stream",
     "text": [
      "Reading doc from disk  ../data/ext_data/websites/total_com/total_com_customers_consumers_solar-energy\n",
      "Reading doc from disk  ../data/ext_data/websites/total_com/www_ep_total_com_en\n"
     ]
    },
    {
     "name": "stderr",
     "output_type": "stream",
     "text": [
      "\r",
      " 65%|██████▍   | 88/136 [00:08<00:05,  9.59it/s]"
     ]
    },
    {
     "name": "stdout",
     "output_type": "stream",
     "text": [
      "Reading doc from disk  ../data/ext_data/websites/total_com/total_com_media_news_communiques-presse_total-once-again-selected-in-2020-in-the-dow-jones-sustainability-indices\n",
      "Reading doc from disk  ../data/ext_data/websites/total_com/www_careers_total_com_en_five-great-reasons-join-us\n"
     ]
    },
    {
     "name": "stderr",
     "output_type": "stream",
     "text": [
      " 67%|██████▋   | 91/136 [00:08<00:04,  9.79it/s]"
     ]
    },
    {
     "name": "stdout",
     "output_type": "stream",
     "text": [
      "Reading doc from disk  ../data/ext_data/websites/total_com/total_com_group_commitment\n",
      "Reading doc from disk  ../data/ext_data/websites/total_com/total_com_investors_shares-and-dividends_ownership-structure\n",
      "Reading doc from disk  ../data/ext_data/websites/total_com/total_com_investors_publications-and-regulated-information_regulated-information\n"
     ]
    },
    {
     "name": "stderr",
     "output_type": "stream",
     "text": [
      "\r",
      " 68%|██████▊   | 93/136 [00:09<00:04, 10.54it/s]"
     ]
    },
    {
     "name": "stdout",
     "output_type": "stream",
     "text": [
      "Reading doc from disk  ../data/ext_data/websites/total_com/total_com_group_commitment_shared-development_supplier-relationships-underpinned-by-ethics-and-sustainability\n",
      "Reading doc from disk  ../data/ext_data/websites/total_com/www_bitumen_total_com_\n",
      "Reading doc from disk  ../data/ext_data/websites/total_com/total_com_en_accessibility\n"
     ]
    },
    {
     "name": "stderr",
     "output_type": "stream",
     "text": [
      " 71%|███████▏  | 97/136 [00:09<00:03, 11.76it/s]"
     ]
    },
    {
     "name": "stdout",
     "output_type": "stream",
     "text": [
      "Reading doc from disk  ../data/ext_data/websites/total_com/www_polymers_total_com_\n",
      "Reading doc from disk  ../data/ext_data/websites/total_com/total_com_group_worldwide-presence\n",
      "Reading doc from disk  ../data/ext_data/websites/total_com/total_com_group_total-a-major-energy-operator\n"
     ]
    },
    {
     "name": "stderr",
     "output_type": "stream",
     "text": [
      "\r",
      " 73%|███████▎  | 99/136 [00:09<00:03,  9.96it/s]"
     ]
    },
    {
     "name": "stdout",
     "output_type": "stream",
     "text": [
      "Reading doc from disk  ../data/ext_data/websites/total_com/total_com_investors_shares-and-dividends\n",
      "Reading doc from disk  ../data/ext_data/websites/total_com/total_com_investors_individual-shareholders_shareholders-events\n"
     ]
    },
    {
     "name": "stderr",
     "output_type": "stream",
     "text": [
      "\r",
      " 74%|███████▍  | 101/136 [00:09<00:03,  9.45it/s]"
     ]
    },
    {
     "name": "stdout",
     "output_type": "stream",
     "text": [
      "Reading doc from disk  ../data/ext_data/websites/total_com/total_com_media_media\n",
      "Reading doc from disk  ../data/ext_data/websites/total_com/total_com_commitment_climate-change_climate-our-vision\n"
     ]
    },
    {
     "name": "stderr",
     "output_type": "stream",
     "text": [
      " 76%|███████▌  | 103/136 [00:10<00:03,  8.59it/s]"
     ]
    },
    {
     "name": "stdout",
     "output_type": "stream",
     "text": [
      "Reading doc from disk  ../data/ext_data/websites/total_com/total_com_media_publications\n",
      "Reading doc from disk  ../data/ext_data/websites/total_com/total_com_energy-expertise_transformation-development_total-present-across-entire-low-carbon-electricity-value-chain\n"
     ]
    },
    {
     "name": "stderr",
     "output_type": "stream",
     "text": [
      "\r",
      " 77%|███████▋  | 105/136 [00:10<00:03,  9.17it/s]"
     ]
    },
    {
     "name": "stdout",
     "output_type": "stream",
     "text": [
      "Reading doc from disk  ../data/ext_data/websites/total_com/total_com_group_commitment_shared-development_access-to-energy\n",
      "Reading doc from disk  ../data/ext_data/websites/total_com/total_com_customers_businesses_energy-efficiency\n",
      "Reading doc from disk  ../data/ext_data/websites/total_com/total_com_group_ambition_commitments\n"
     ]
    },
    {
     "name": "stderr",
     "output_type": "stream",
     "text": [
      " 80%|████████  | 109/136 [00:10<00:02, 11.18it/s]"
     ]
    },
    {
     "name": "stdout",
     "output_type": "stream",
     "text": [
      "Reading doc from disk  ../data/ext_data/websites/total_com/total_com_media_news_communiques-presse_paris-total-to-operate-2300-ev-charge-points-of-the-belib-network\n",
      "Reading doc from disk  ../data/ext_data/websites/total_com/total_com_investors_publications-and-regulated-information\n",
      "Reading doc from disk  ../data/ext_data/websites/total_com/total_com_customers_businesses\n"
     ]
    },
    {
     "name": "stderr",
     "output_type": "stream",
     "text": [
      "\r",
      " 82%|████████▏ | 111/136 [00:10<00:02, 10.06it/s]"
     ]
    },
    {
     "name": "stdout",
     "output_type": "stream",
     "text": [
      "Reading doc from disk  ../data/ext_data/websites/total_com/total_com_group_energy-expertise_transformation-development_refining-petrochemical\n",
      "Reading doc from disk  ../data/ext_data/websites/total_com/total_com_investors_publications-and-regulated-information_other-information\n"
     ]
    },
    {
     "name": "stderr",
     "output_type": "stream",
     "text": [
      "\r",
      " 83%|████████▎ | 113/136 [00:11<00:02,  9.74it/s]"
     ]
    },
    {
     "name": "stdout",
     "output_type": "stream",
     "text": [
      "Reading doc from disk  ../data/ext_data/websites/total_com/total_com_group_ambition_challenges\n",
      "Reading doc from disk  ../data/ext_data/websites/total_com/total_com_group_commitment_environmental-issues-challenges_environment-protection_air\n"
     ]
    },
    {
     "name": "stderr",
     "output_type": "stream",
     "text": [
      "\r",
      " 85%|████████▍ | 115/136 [00:11<00:02,  9.46it/s]"
     ]
    },
    {
     "name": "stdout",
     "output_type": "stream",
     "text": [
      "Reading doc from disk  ../data/ext_data/websites/total_com/total_com_investors_shares-and-dividends_Total-shares\n",
      "Reading doc from disk  ../data/ext_data/websites/total_com/total_com_group_commitment_protecting-people_health_products\n"
     ]
    },
    {
     "name": "stderr",
     "output_type": "stream",
     "text": [
      " 86%|████████▌ | 117/136 [00:11<00:02,  8.56it/s]"
     ]
    },
    {
     "name": "stdout",
     "output_type": "stream",
     "text": [
      "Reading doc from disk  ../data/ext_data/websites/total_com/total_com_group_ambition\n",
      "Reading doc from disk  ../data/ext_data/websites/total_com/total_com_home-media\n"
     ]
    },
    {
     "name": "stderr",
     "output_type": "stream",
     "text": [
      " 88%|████████▊ | 120/136 [00:11<00:01,  9.49it/s]"
     ]
    },
    {
     "name": "stdout",
     "output_type": "stream",
     "text": [
      "Reading doc from disk  ../data/ext_data/websites/total_com/total_com_customers_consumers_heating\n",
      "Reading doc from disk  ../data/ext_data/websites/total_com/total_com_customers_businesses_natural-gas-and-power\n",
      "Reading doc from disk  ../data/ext_data/websites/total_com/total_com_group_identity_five-strong-values-embedded-our-dna\n"
     ]
    },
    {
     "name": "stderr",
     "output_type": "stream",
     "text": [
      " 90%|█████████ | 123/136 [00:12<00:01,  9.99it/s]"
     ]
    },
    {
     "name": "stdout",
     "output_type": "stream",
     "text": [
      "Reading doc from disk  ../data/ext_data/websites/total_com/www_marinefuels_total_com_\n",
      "Reading doc from disk  ../data/ext_data/websites/total_com/total_com_customers_consumers_natural-gas-and-power\n",
      "Reading doc from disk  ../data/ext_data/websites/total_com/total_com_customers\n"
     ]
    },
    {
     "name": "stderr",
     "output_type": "stream",
     "text": [
      " 92%|█████████▏| 125/136 [00:12<00:01,  8.60it/s]"
     ]
    },
    {
     "name": "stdout",
     "output_type": "stream",
     "text": [
      "Reading doc from disk  ../data/ext_data/websites/total_com/total_com_group_commitment_climate-change_growing-natural-gas\n",
      "Reading doc from disk  ../data/ext_data/websites/total_com/total_com_investors_individual-shareholders_shareholders-advisory-committee\n"
     ]
    },
    {
     "name": "stderr",
     "output_type": "stream",
     "text": [
      "\r",
      " 93%|█████████▎| 127/136 [00:12<00:00,  9.91it/s]"
     ]
    },
    {
     "name": "stdout",
     "output_type": "stream",
     "text": [
      "Reading doc from disk  ../data/ext_data/websites/total_com/total_com_group_commitment_shared-development\n",
      "Reading doc from disk  ../data/ext_data/websites/total_com/www_total_com_sites_g_files_nytnzq111_files_documents_2020-10_total-climate-report-2020_pdf\n",
      "Error :  'utf-8' codec can't decode byte 0xe2 in position 10: invalid continuation byte ../data/odqa_data/documents/www_total_com_sites_g_files_nytnzq111_files_documents_2020-10_total-climate-report-2020_pdf\n",
      "Reading doc from disk  ../data/ext_data/websites/total_com/total_com_media_media-relations\n",
      "Reading doc from disk  ../data/ext_data/websites/total_com/total_com_jobseekers\n"
     ]
    },
    {
     "name": "stderr",
     "output_type": "stream",
     "text": [
      "\r",
      " 96%|█████████▌| 130/136 [00:12<00:00, 11.52it/s]"
     ]
    },
    {
     "name": "stdout",
     "output_type": "stream",
     "text": [
      "Reading doc from disk  ../data/ext_data/websites/total_com/total_com_group_our-commitment_being-responsible-employer\n",
      "Reading doc from disk  ../data/ext_data/websites/total_com/total_com_group_ethics_exemplary-behavior\n"
     ]
    },
    {
     "name": "stderr",
     "output_type": "stream",
     "text": [
      "\r",
      " 97%|█████████▋| 132/136 [00:13<00:00, 10.02it/s]"
     ]
    },
    {
     "name": "stdout",
     "output_type": "stream",
     "text": [
      "Reading doc from disk  ../data/ext_data/websites/total_com/total_com_group_commitment_protecting-people_health\n",
      "Reading doc from disk  ../data/ext_data/websites/total_com/total_com_group_commitment_climate-change_petroleum-products-energy-efficiency-biofuels\n"
     ]
    },
    {
     "name": "stderr",
     "output_type": "stream",
     "text": [
      " 99%|█████████▉| 135/136 [00:13<00:00,  8.02it/s]"
     ]
    },
    {
     "name": "stdout",
     "output_type": "stream",
     "text": [
      "Reading doc from disk  ../data/ext_data/websites/total_com/www_lubricants_total_com_\n",
      "Reading doc from disk  ../data/ext_data/websites/total_com/total_com_investors_shareholders-meetings\n"
     ]
    },
    {
     "name": "stderr",
     "output_type": "stream",
     "text": [
      "100%|██████████| 136/136 [00:13<00:00,  9.93it/s]\n"
     ]
    }
   ],
   "source": [
    "NB_SENTENCES_PER_JSON_DOCUMENT = 5 #Number of sentences per json document.\n",
    "\n",
    "for filepath in tqdm(glob.glob(DATA_FOLDER+\"*\")):\n",
    "    json_file_path = os.path.join(DOCUMENTS_FOLDER,os.path.basename(filepath))\n",
    "    if not os.path.isfile(json_file_path+\"_0.json\"):\n",
    "        try:\n",
    "            doc_text = document_string_from_source(filepath)\n",
    "            doc_json = {\"title\": doc_text[:20], \"text\" : \"\", \"url\": from_filename_to_url(os.path.basename(filepath))}\n",
    "            doc_text_sentences = doc_text.split(\". \")\n",
    "            for i in range(0,len(doc_text_sentences),NB_SENTENCES_PER_JSON_DOCUMENT):\n",
    "                doc_json[\"text\"] = \". \".join(doc_text_sentences[i:i+NB_SENTENCES_PER_JSON_DOCUMENT])\n",
    "                sub_doc_json_file_path = json_file_path + \"_{}.json\".format(i)\n",
    "                with open(sub_doc_json_file_path,\"w+\") as json_file:\n",
    "                    json.dump(doc_json,json_file)\n",
    "        except UnicodeDecodeError as e:\n",
    "            print(\"Error : \",e,json_file_path)\n",
    "    else:\n",
    "        print(\"{} file(s) already exist(s)\".format(json_file_path))"
   ]
  },
  {
   "cell_type": "code",
   "execution_count": null,
   "metadata": {},
   "outputs": [],
   "source": []
  }
 ],
 "metadata": {
  "kernelspec": {
   "display_name": "Python [conda env:leyanki_odqa]",
   "language": "python",
   "name": "conda-env-leyanki_odqa-py"
  },
  "language_info": {
   "codemirror_mode": {
    "name": "ipython",
    "version": 3
   },
   "file_extension": ".py",
   "mimetype": "text/x-python",
   "name": "python",
   "nbconvert_exporter": "python",
   "pygments_lexer": "ipython3",
   "version": "3.8.5"
  },
  "toc": {
   "base_numbering": 1,
   "nav_menu": {},
   "number_sections": true,
   "sideBar": true,
   "skip_h1_title": false,
   "title_cell": "Table of Contents",
   "title_sidebar": "Contents",
   "toc_cell": false,
   "toc_position": {},
   "toc_section_display": true,
   "toc_window_display": false
  },
  "varInspector": {
   "cols": {
    "lenName": 16,
    "lenType": 16,
    "lenVar": 40
   },
   "kernels_config": {
    "python": {
     "delete_cmd_postfix": "",
     "delete_cmd_prefix": "del ",
     "library": "var_list.py",
     "varRefreshCmd": "print(var_dic_list())"
    },
    "r": {
     "delete_cmd_postfix": ") ",
     "delete_cmd_prefix": "rm(",
     "library": "var_list.r",
     "varRefreshCmd": "cat(var_dic_list()) "
    }
   },
   "types_to_exclude": [
    "module",
    "function",
    "builtin_function_or_method",
    "instance",
    "_Feature"
   ],
   "window_display": false
  }
 },
 "nbformat": 4,
 "nbformat_minor": 4
}
